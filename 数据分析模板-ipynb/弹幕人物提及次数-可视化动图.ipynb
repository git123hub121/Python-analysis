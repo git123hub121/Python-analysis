{
 "cells": [
  {
   "cell_type": "code",
   "execution_count": 106,
   "metadata": {},
   "outputs": [],
   "source": [
    "# 导入库\n",
    "import pandas as pd "
   ]
  },
  {
   "cell_type": "code",
   "execution_count": 107,
   "metadata": {},
   "outputs": [
    {
     "output_type": "execute_result",
     "data": {
      "text/plain": [
       "  name  number    day\n",
       "0  陈凯歌  228473  9月28日\n",
       "1  陈凯歌  144677  9月29日\n",
       "2  陈凯歌   61491  9月30日\n",
       "3  陈凯歌   24731  10月1日\n",
       "4  陈凯歌  202344  10月2日"
      ],
      "text/html": "<div>\n<style scoped>\n    .dataframe tbody tr th:only-of-type {\n        vertical-align: middle;\n    }\n\n    .dataframe tbody tr th {\n        vertical-align: top;\n    }\n\n    .dataframe thead th {\n        text-align: right;\n    }\n</style>\n<table border=\"1\" class=\"dataframe\">\n  <thead>\n    <tr style=\"text-align: right;\">\n      <th></th>\n      <th>name</th>\n      <th>number</th>\n      <th>day</th>\n    </tr>\n  </thead>\n  <tbody>\n    <tr>\n      <th>0</th>\n      <td>陈凯歌</td>\n      <td>228473</td>\n      <td>9月28日</td>\n    </tr>\n    <tr>\n      <th>1</th>\n      <td>陈凯歌</td>\n      <td>144677</td>\n      <td>9月29日</td>\n    </tr>\n    <tr>\n      <th>2</th>\n      <td>陈凯歌</td>\n      <td>61491</td>\n      <td>9月30日</td>\n    </tr>\n    <tr>\n      <th>3</th>\n      <td>陈凯歌</td>\n      <td>24731</td>\n      <td>10月1日</td>\n    </tr>\n    <tr>\n      <th>4</th>\n      <td>陈凯歌</td>\n      <td>202344</td>\n      <td>10月2日</td>\n    </tr>\n  </tbody>\n</table>\n</div>"
     },
     "metadata": {},
     "execution_count": 107
    }
   ],
   "source": [
    "# 导入数据\n",
    "#相对路径是相对这个文件而言的。\n",
    "df = pd.read_csv('D:\\Python\\weibo.csv', header=None, names=['name', 'number', 'day'])#或者open('D:/Python/演员请就位2代码数据/数据/weibo.csv') 由于中文导致，可以解决       添加这个,engine='python'会导致乱码，不提倡，最好别用中文\n",
    "df.head() "
   ]
  },
  {
   "cell_type": "code",
   "execution_count": 108,
   "metadata": {},
   "outputs": [
    {
     "output_type": "execute_result",
     "data": {
      "text/plain": [
       "(5699, 3)"
      ]
     },
     "metadata": {},
     "execution_count": 108
    }
   ],
   "source": [
    "df.shape"
   ]
  },
  {
   "cell_type": "code",
   "execution_count": 109,
   "metadata": {},
   "outputs": [],
   "source": [
    "from datetime import datetime\n",
    "\n",
    "def transform_day(x): \n",
    "    x = '2020年' + x \n",
    "    date_format = datetime.strptime(x, '%Y年%m月%d日')\n",
    "    return datetime.strftime(date_format, '%Y-%m-%d') "
   ]
  },
  {
   "cell_type": "code",
   "execution_count": 110,
   "metadata": {},
   "outputs": [
    {
     "output_type": "execute_result",
     "data": {
      "text/plain": [
       "  name  number         day\n",
       "0  陈凯歌  228473  2020-09-28\n",
       "1  陈凯歌  144677  2020-09-29\n",
       "2  陈凯歌   61491  2020-09-30\n",
       "3  陈凯歌   24731  2020-10-01\n",
       "4  陈凯歌  202344  2020-10-02"
      ],
      "text/html": "<div>\n<style scoped>\n    .dataframe tbody tr th:only-of-type {\n        vertical-align: middle;\n    }\n\n    .dataframe tbody tr th {\n        vertical-align: top;\n    }\n\n    .dataframe thead th {\n        text-align: right;\n    }\n</style>\n<table border=\"1\" class=\"dataframe\">\n  <thead>\n    <tr style=\"text-align: right;\">\n      <th></th>\n      <th>name</th>\n      <th>number</th>\n      <th>day</th>\n    </tr>\n  </thead>\n  <tbody>\n    <tr>\n      <th>0</th>\n      <td>陈凯歌</td>\n      <td>228473</td>\n      <td>2020-09-28</td>\n    </tr>\n    <tr>\n      <th>1</th>\n      <td>陈凯歌</td>\n      <td>144677</td>\n      <td>2020-09-29</td>\n    </tr>\n    <tr>\n      <th>2</th>\n      <td>陈凯歌</td>\n      <td>61491</td>\n      <td>2020-09-30</td>\n    </tr>\n    <tr>\n      <th>3</th>\n      <td>陈凯歌</td>\n      <td>24731</td>\n      <td>2020-10-01</td>\n    </tr>\n    <tr>\n      <th>4</th>\n      <td>陈凯歌</td>\n      <td>202344</td>\n      <td>2020-10-02</td>\n    </tr>\n  </tbody>\n</table>\n</div>"
     },
     "metadata": {},
     "execution_count": 110
    }
   ],
   "source": [
    "df['day'] = df.day.apply(transform_day)\n",
    "df.head() "
   ]
  },
  {
   "cell_type": "code",
   "execution_count": 111,
   "metadata": {},
   "outputs": [],
   "source": [
    "# 筛选数据\n",
    "# df_sel = df[df['day'] >= '2020-10-02']\n",
    "# df_sel.head() "
   ]
  },
  {
   "cell_type": "code",
   "execution_count": 112,
   "metadata": {},
   "outputs": [
    {
     "output_type": "execute_result",
     "data": {
      "text/plain": [
       "day   2020-09-28  2020-09-29  2020-09-30  2020-10-01  2020-10-02  2020-10-03  \\\n",
       "name                                                                           \n",
       "丁程鑫       238743      331144      220502      684493     3258777     2945537   \n",
       "任敏          9761       12676      248718       14828      355410      223394   \n",
       "何昶希       100651       50804      132123       21635      417763       63098   \n",
       "倪虹洁           50        2927      268390        4283       69572      301396   \n",
       "刘芮麟        10534        3787        6080        2661       10249        3821   \n",
       "\n",
       "day   2020-10-04  2020-10-05  2020-10-06  2020-10-07     ...      2020-10-27  \\\n",
       "name                                                     ...                   \n",
       "丁程鑫      1093234      585431      868115      446744     ...          818343   \n",
       "任敏         80777       51645       17476       39750     ...           66209   \n",
       "何昶希        38307      124519      152095       37575     ...           38039   \n",
       "倪虹洁      1331254       75671       26789       65648     ...           33349   \n",
       "刘芮麟          454         435        5792       13783     ...             369   \n",
       "\n",
       "day   2020-10-28  2020-10-29  2020-10-30  2020-10-31  2020-11-01  2020-11-02  \\\n",
       "name                                                                           \n",
       "丁程鑫       571132      598811     1210984     2075029      708423      480433   \n",
       "任敏        122077       34263       14465      379152      293338       61232   \n",
       "何昶希        84732       29340       22680      166695      121920       64487   \n",
       "倪虹洁         6326        7851        4125       18652       15977       27142   \n",
       "刘芮麟       224247       20801        4412       30245       25098       14118   \n",
       "\n",
       "day   2020-11-03  2020-11-04  2020-11-05  \n",
       "name                                      \n",
       "丁程鑫      1076731     1338156      586131  \n",
       "任敏         56378      103218       23827  \n",
       "何昶希        72107       48046      244105  \n",
       "倪虹洁         6790       11318       14303  \n",
       "刘芮麟         8101        3985        4925  \n",
       "\n",
       "[5 rows x 39 columns]"
      ],
      "text/html": "<div>\n<style scoped>\n    .dataframe tbody tr th:only-of-type {\n        vertical-align: middle;\n    }\n\n    .dataframe tbody tr th {\n        vertical-align: top;\n    }\n\n    .dataframe thead th {\n        text-align: right;\n    }\n</style>\n<table border=\"1\" class=\"dataframe\">\n  <thead>\n    <tr style=\"text-align: right;\">\n      <th>day</th>\n      <th>2020-09-28</th>\n      <th>2020-09-29</th>\n      <th>2020-09-30</th>\n      <th>2020-10-01</th>\n      <th>2020-10-02</th>\n      <th>2020-10-03</th>\n      <th>2020-10-04</th>\n      <th>2020-10-05</th>\n      <th>2020-10-06</th>\n      <th>2020-10-07</th>\n      <th>...</th>\n      <th>2020-10-27</th>\n      <th>2020-10-28</th>\n      <th>2020-10-29</th>\n      <th>2020-10-30</th>\n      <th>2020-10-31</th>\n      <th>2020-11-01</th>\n      <th>2020-11-02</th>\n      <th>2020-11-03</th>\n      <th>2020-11-04</th>\n      <th>2020-11-05</th>\n    </tr>\n    <tr>\n      <th>name</th>\n      <th></th>\n      <th></th>\n      <th></th>\n      <th></th>\n      <th></th>\n      <th></th>\n      <th></th>\n      <th></th>\n      <th></th>\n      <th></th>\n      <th></th>\n      <th></th>\n      <th></th>\n      <th></th>\n      <th></th>\n      <th></th>\n      <th></th>\n      <th></th>\n      <th></th>\n      <th></th>\n      <th></th>\n    </tr>\n  </thead>\n  <tbody>\n    <tr>\n      <th>丁程鑫</th>\n      <td>238743</td>\n      <td>331144</td>\n      <td>220502</td>\n      <td>684493</td>\n      <td>3258777</td>\n      <td>2945537</td>\n      <td>1093234</td>\n      <td>585431</td>\n      <td>868115</td>\n      <td>446744</td>\n      <td>...</td>\n      <td>818343</td>\n      <td>571132</td>\n      <td>598811</td>\n      <td>1210984</td>\n      <td>2075029</td>\n      <td>708423</td>\n      <td>480433</td>\n      <td>1076731</td>\n      <td>1338156</td>\n      <td>586131</td>\n    </tr>\n    <tr>\n      <th>任敏</th>\n      <td>9761</td>\n      <td>12676</td>\n      <td>248718</td>\n      <td>14828</td>\n      <td>355410</td>\n      <td>223394</td>\n      <td>80777</td>\n      <td>51645</td>\n      <td>17476</td>\n      <td>39750</td>\n      <td>...</td>\n      <td>66209</td>\n      <td>122077</td>\n      <td>34263</td>\n      <td>14465</td>\n      <td>379152</td>\n      <td>293338</td>\n      <td>61232</td>\n      <td>56378</td>\n      <td>103218</td>\n      <td>23827</td>\n    </tr>\n    <tr>\n      <th>何昶希</th>\n      <td>100651</td>\n      <td>50804</td>\n      <td>132123</td>\n      <td>21635</td>\n      <td>417763</td>\n      <td>63098</td>\n      <td>38307</td>\n      <td>124519</td>\n      <td>152095</td>\n      <td>37575</td>\n      <td>...</td>\n      <td>38039</td>\n      <td>84732</td>\n      <td>29340</td>\n      <td>22680</td>\n      <td>166695</td>\n      <td>121920</td>\n      <td>64487</td>\n      <td>72107</td>\n      <td>48046</td>\n      <td>244105</td>\n    </tr>\n    <tr>\n      <th>倪虹洁</th>\n      <td>50</td>\n      <td>2927</td>\n      <td>268390</td>\n      <td>4283</td>\n      <td>69572</td>\n      <td>301396</td>\n      <td>1331254</td>\n      <td>75671</td>\n      <td>26789</td>\n      <td>65648</td>\n      <td>...</td>\n      <td>33349</td>\n      <td>6326</td>\n      <td>7851</td>\n      <td>4125</td>\n      <td>18652</td>\n      <td>15977</td>\n      <td>27142</td>\n      <td>6790</td>\n      <td>11318</td>\n      <td>14303</td>\n    </tr>\n    <tr>\n      <th>刘芮麟</th>\n      <td>10534</td>\n      <td>3787</td>\n      <td>6080</td>\n      <td>2661</td>\n      <td>10249</td>\n      <td>3821</td>\n      <td>454</td>\n      <td>435</td>\n      <td>5792</td>\n      <td>13783</td>\n      <td>...</td>\n      <td>369</td>\n      <td>224247</td>\n      <td>20801</td>\n      <td>4412</td>\n      <td>30245</td>\n      <td>25098</td>\n      <td>14118</td>\n      <td>8101</td>\n      <td>3985</td>\n      <td>4925</td>\n    </tr>\n  </tbody>\n</table>\n<p>5 rows × 39 columns</p>\n</div>"
     },
     "metadata": {},
     "execution_count": 112
    }
   ],
   "source": [
    "df_resuluts = pd.pivot_table(data=df, \n",
    "                             index='name', \n",
    "                             columns='day', \n",
    "                             values='number', \n",
    "                             aggfunc='mean', \n",
    "                             fill_value=0\n",
    "                            )\n",
    "df_resuluts.head() "
   ]
  },
  {
   "cell_type": "code",
   "execution_count": 113,
   "metadata": {},
   "outputs": [],
   "source": [
    "#df_resuluts.to_csv('df_resuluts.csv') #所以这个会跟可视化动图在同一目录下"
   ]
  },
  {
   "cell_type": "code",
   "execution_count": 114,
   "metadata": {},
   "outputs": [
    {
     "output_type": "execute_result",
     "data": {
      "text/plain": [
       "  name  2020-09-28  2020-09-29  2020-09-30  2020-10-01  2020-10-02  \\\n",
       "0  丁程鑫      238743      331144      220502      684493     3258777   \n",
       "1   任敏        9761       12676      248718       14828      355410   \n",
       "2  何昶希      100651       50804      132123       21635      417763   \n",
       "3  倪虹洁          50        2927      268390        4283       69572   \n",
       "4  刘芮麟       10534        3787        6080        2661       10249   \n",
       "\n",
       "   2020-10-03  2020-10-04  2020-10-05  2020-10-06     ...      2020-10-27  \\\n",
       "0     2945537     1093234      585431      868115     ...          818343   \n",
       "1      223394       80777       51645       17476     ...           66209   \n",
       "2       63098       38307      124519      152095     ...           38039   \n",
       "3      301396     1331254       75671       26789     ...           33349   \n",
       "4        3821         454         435        5792     ...             369   \n",
       "\n",
       "   2020-10-28  2020-10-29  2020-10-30  2020-10-31  2020-11-01  2020-11-02  \\\n",
       "0      571132      598811     1210984     2075029      708423      480433   \n",
       "1      122077       34263       14465      379152      293338       61232   \n",
       "2       84732       29340       22680      166695      121920       64487   \n",
       "3        6326        7851        4125       18652       15977       27142   \n",
       "4      224247       20801        4412       30245       25098       14118   \n",
       "\n",
       "   2020-11-03  2020-11-04  2020-11-05  \n",
       "0     1076731     1338156      586131  \n",
       "1       56378      103218       23827  \n",
       "2       72107       48046      244105  \n",
       "3        6790       11318       14303  \n",
       "4        8101        3985        4925  \n",
       "\n",
       "[5 rows x 40 columns]"
      ],
      "text/html": "<div>\n<style scoped>\n    .dataframe tbody tr th:only-of-type {\n        vertical-align: middle;\n    }\n\n    .dataframe tbody tr th {\n        vertical-align: top;\n    }\n\n    .dataframe thead th {\n        text-align: right;\n    }\n</style>\n<table border=\"1\" class=\"dataframe\">\n  <thead>\n    <tr style=\"text-align: right;\">\n      <th></th>\n      <th>name</th>\n      <th>2020-09-28</th>\n      <th>2020-09-29</th>\n      <th>2020-09-30</th>\n      <th>2020-10-01</th>\n      <th>2020-10-02</th>\n      <th>2020-10-03</th>\n      <th>2020-10-04</th>\n      <th>2020-10-05</th>\n      <th>2020-10-06</th>\n      <th>...</th>\n      <th>2020-10-27</th>\n      <th>2020-10-28</th>\n      <th>2020-10-29</th>\n      <th>2020-10-30</th>\n      <th>2020-10-31</th>\n      <th>2020-11-01</th>\n      <th>2020-11-02</th>\n      <th>2020-11-03</th>\n      <th>2020-11-04</th>\n      <th>2020-11-05</th>\n    </tr>\n  </thead>\n  <tbody>\n    <tr>\n      <th>0</th>\n      <td>丁程鑫</td>\n      <td>238743</td>\n      <td>331144</td>\n      <td>220502</td>\n      <td>684493</td>\n      <td>3258777</td>\n      <td>2945537</td>\n      <td>1093234</td>\n      <td>585431</td>\n      <td>868115</td>\n      <td>...</td>\n      <td>818343</td>\n      <td>571132</td>\n      <td>598811</td>\n      <td>1210984</td>\n      <td>2075029</td>\n      <td>708423</td>\n      <td>480433</td>\n      <td>1076731</td>\n      <td>1338156</td>\n      <td>586131</td>\n    </tr>\n    <tr>\n      <th>1</th>\n      <td>任敏</td>\n      <td>9761</td>\n      <td>12676</td>\n      <td>248718</td>\n      <td>14828</td>\n      <td>355410</td>\n      <td>223394</td>\n      <td>80777</td>\n      <td>51645</td>\n      <td>17476</td>\n      <td>...</td>\n      <td>66209</td>\n      <td>122077</td>\n      <td>34263</td>\n      <td>14465</td>\n      <td>379152</td>\n      <td>293338</td>\n      <td>61232</td>\n      <td>56378</td>\n      <td>103218</td>\n      <td>23827</td>\n    </tr>\n    <tr>\n      <th>2</th>\n      <td>何昶希</td>\n      <td>100651</td>\n      <td>50804</td>\n      <td>132123</td>\n      <td>21635</td>\n      <td>417763</td>\n      <td>63098</td>\n      <td>38307</td>\n      <td>124519</td>\n      <td>152095</td>\n      <td>...</td>\n      <td>38039</td>\n      <td>84732</td>\n      <td>29340</td>\n      <td>22680</td>\n      <td>166695</td>\n      <td>121920</td>\n      <td>64487</td>\n      <td>72107</td>\n      <td>48046</td>\n      <td>244105</td>\n    </tr>\n    <tr>\n      <th>3</th>\n      <td>倪虹洁</td>\n      <td>50</td>\n      <td>2927</td>\n      <td>268390</td>\n      <td>4283</td>\n      <td>69572</td>\n      <td>301396</td>\n      <td>1331254</td>\n      <td>75671</td>\n      <td>26789</td>\n      <td>...</td>\n      <td>33349</td>\n      <td>6326</td>\n      <td>7851</td>\n      <td>4125</td>\n      <td>18652</td>\n      <td>15977</td>\n      <td>27142</td>\n      <td>6790</td>\n      <td>11318</td>\n      <td>14303</td>\n    </tr>\n    <tr>\n      <th>4</th>\n      <td>刘芮麟</td>\n      <td>10534</td>\n      <td>3787</td>\n      <td>6080</td>\n      <td>2661</td>\n      <td>10249</td>\n      <td>3821</td>\n      <td>454</td>\n      <td>435</td>\n      <td>5792</td>\n      <td>...</td>\n      <td>369</td>\n      <td>224247</td>\n      <td>20801</td>\n      <td>4412</td>\n      <td>30245</td>\n      <td>25098</td>\n      <td>14118</td>\n      <td>8101</td>\n      <td>3985</td>\n      <td>4925</td>\n    </tr>\n  </tbody>\n</table>\n<p>5 rows × 40 columns</p>\n</div>"
     },
     "metadata": {},
     "execution_count": 114
    }
   ],
   "source": [
    "df = pd.read_csv('D:\\Python\\df_resuluts.csv')\n",
    "df.head(5)"
   ]
  },
  {
   "cell_type": "code",
   "execution_count": 115,
   "metadata": {},
   "outputs": [
    {
     "output_type": "execute_result",
     "data": {
      "text/plain": [
       "['丁程鑫', '任敏', '何昶希', '倪虹洁', '刘芮麟']"
      ]
     },
     "metadata": {},
     "execution_count": 115
    }
   ],
   "source": [
    "x = list(df['name'])\n",
    "x[:5]"
   ]
  },
  {
   "cell_type": "code",
   "execution_count": 116,
   "metadata": {},
   "outputs": [],
   "source": [
    "#df.iloc[:,1:]\n",
    "#df.iloc[:,2]\n",
    "#len(df)"
   ]
  },
  {
   "cell_type": "code",
   "execution_count": 117,
   "metadata": {},
   "outputs": [],
   "source": [
    "#构建列名-key，是不是可以用map  \n",
    "data = []\n",
    "for i in df[1:]:\n",
    "    data.append(i)\n",
    "data = data[1:]\n",
    "# data[1]\n",
    "#\n",
    "datay = []\n",
    "for i in range(1,40):\n",
    "    datay.append(list(df.iloc[:,i]))"
   ]
  },
  {
   "cell_type": "code",
   "execution_count": 118,
   "metadata": {},
   "outputs": [],
   "source": [
    "# ylist = []\n",
    "# for i in range(39):\n",
    "#     y = {\n",
    "#         data[i] : datay[i]\n",
    "#     }\n",
    "#     ylist.append(y)"
   ]
  },
  {
   "cell_type": "code",
   "execution_count": 120,
   "metadata": {},
   "outputs": [
    {
     "output_type": "execute_result",
     "data": {
      "text/plain": [
       "<pyecharts.charts.composite_charts.timeline.Timeline at 0x1d8ca19bcf8>"
      ]
     },
     "metadata": {},
     "execution_count": 120
    }
   ],
   "source": [
    "import pyecharts.options as opts\n",
    "from pyecharts.charts import Timeline, Bar\n",
    "def get(date: int) -> Bar:\n",
    "    bar = (\n",
    "        Bar()\n",
    "        .add_xaxis(xaxis_data=x)\n",
    "        .add_yaxis(\n",
    "            series_name=\"弹幕探讨次数\",\n",
    "            y_axis=datay[date],\n",
    "            label_opts=opts.LabelOpts(is_show=False),\n",
    "        )\n",
    "        .set_global_opts(\n",
    "            title_opts=opts.TitleOpts(\n",
    "                title=\"{}\".format(data[date]), subtitle=\"人物被提及次数\"\n",
    "            ),\n",
    "            # datazoom_opts=[opts.DataZoomOpts(), opts.DataZoomOpts(type_=\"inside\"),],\n",
    "            tooltip_opts=opts.TooltipOpts(\n",
    "            is_show=True, trigger=\"axis\", axis_pointer_type=\"shadow\"\n",
    "            ),\n",
    "        )\n",
    "    )\n",
    "    return bar\n",
    "# 生成时间轴的图\n",
    "timeline = Timeline(init_opts=opts.InitOpts(width=\"1200px\", height=\"600px\"))\n",
    "\n",
    "for i in range(39):\n",
    "    timeline.add(get(date = i),time_point=str(data[i]))\n",
    "# 1.0.0 版本的 add_schema 暂时没有补上 return self 所以只能这么写着\n",
    "timeline.add_schema(is_auto_play=True, play_interval=1000,)\n",
    "# timeline.render(\"wode.html\")"
   ]
  },
  {
   "cell_type": "code",
   "execution_count": null,
   "metadata": {},
   "outputs": [],
   "source": []
  }
 ],
 "metadata": {
  "kernelspec": {
   "display_name": "Python 3",
   "language": "python",
   "name": "python3"
  },
  "language_info": {
   "codemirror_mode": {
    "name": "ipython",
    "version": 3
   },
   "file_extension": ".py",
   "mimetype": "text/x-python",
   "name": "python",
   "nbconvert_exporter": "python",
   "pygments_lexer": "ipython3",
   "version": "3.7.0-final"
  },
  "toc": {
   "base_numbering": 1,
   "nav_menu": {},
   "number_sections": true,
   "sideBar": true,
   "skip_h1_title": false,
   "title_cell": "Table of Contents",
   "title_sidebar": "Contents",
   "toc_cell": false,
   "toc_position": {},
   "toc_section_display": true,
   "toc_window_display": false
  },
  "varInspector": {
   "cols": {
    "lenName": 16,
    "lenType": 16,
    "lenVar": 40
   },
   "kernels_config": {
    "python": {
     "delete_cmd_postfix": "",
     "delete_cmd_prefix": "del ",
     "library": "var_list.py",
     "varRefreshCmd": "print(var_dic_list())"
    },
    "r": {
     "delete_cmd_postfix": ") ",
     "delete_cmd_prefix": "rm(",
     "library": "var_list.r",
     "varRefreshCmd": "cat(var_dic_list()) "
    }
   },
   "types_to_exclude": [
    "module",
    "function",
    "builtin_function_or_method",
    "instance",
    "_Feature"
   ],
   "window_display": false
  }
 },
 "nbformat": 4,
 "nbformat_minor": 2
}
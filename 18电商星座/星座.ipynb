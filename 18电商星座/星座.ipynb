{
 "metadata": {
  "language_info": {
   "codemirror_mode": {
    "name": "ipython",
    "version": 3
   },
   "file_extension": ".py",
   "mimetype": "text/x-python",
   "name": "python",
   "nbconvert_exporter": "python",
   "pygments_lexer": "ipython3",
   "version": "3.7.0-final"
  },
  "orig_nbformat": 2,
  "kernelspec": {
   "name": "python3",
   "display_name": "Python 3"
  }
 },
 "nbformat": 4,
 "nbformat_minor": 2,
 "cells": [
  {
   "cell_type": "code",
   "execution_count": 2,
   "metadata": {},
   "outputs": [],
   "source": [
    "import pandas as pd"
   ]
  },
  {
   "cell_type": "code",
   "execution_count": 3,
   "metadata": {},
   "outputs": [],
   "source": [
    "df = pd.read_excel('D:\\Python\\Data-set\\sfz.xlsx',header=0,names=['xuehao','name','sfz','sex','nation','number'])#"
   ]
  },
  {
   "cell_type": "code",
   "execution_count": 4,
   "metadata": {},
   "outputs": [
    {
     "output_type": "execute_result",
     "data": {
      "text/plain": [
       "       xuehao name                 sfz sex nation       number\n",
       "0  2017400626  李志杰  430481199910059652   男     汉族  15874450868\n",
       "1  2018400605  罗银银  500222199807205428   女     汉族  19922154216\n",
       "2  2018400606   王骞  433125200108123515   男     汉族  18576715927\n",
       "3  2018400607  刘泽民  431103200101285773   男     汉族  15575375938\n",
       "4  2018400608  胡佳颖  431126200011250061   女     汉族  15574619481"
      ],
      "text/html": "<div>\n<style scoped>\n    .dataframe tbody tr th:only-of-type {\n        vertical-align: middle;\n    }\n\n    .dataframe tbody tr th {\n        vertical-align: top;\n    }\n\n    .dataframe thead th {\n        text-align: right;\n    }\n</style>\n<table border=\"1\" class=\"dataframe\">\n  <thead>\n    <tr style=\"text-align: right;\">\n      <th></th>\n      <th>xuehao</th>\n      <th>name</th>\n      <th>sfz</th>\n      <th>sex</th>\n      <th>nation</th>\n      <th>number</th>\n    </tr>\n  </thead>\n  <tbody>\n    <tr>\n      <th>0</th>\n      <td>2017400626</td>\n      <td>李志杰</td>\n      <td>430481199910059652</td>\n      <td>男</td>\n      <td>汉族</td>\n      <td>15874450868</td>\n    </tr>\n    <tr>\n      <th>1</th>\n      <td>2018400605</td>\n      <td>罗银银</td>\n      <td>500222199807205428</td>\n      <td>女</td>\n      <td>汉族</td>\n      <td>19922154216</td>\n    </tr>\n    <tr>\n      <th>2</th>\n      <td>2018400606</td>\n      <td>王骞</td>\n      <td>433125200108123515</td>\n      <td>男</td>\n      <td>汉族</td>\n      <td>18576715927</td>\n    </tr>\n    <tr>\n      <th>3</th>\n      <td>2018400607</td>\n      <td>刘泽民</td>\n      <td>431103200101285773</td>\n      <td>男</td>\n      <td>汉族</td>\n      <td>15575375938</td>\n    </tr>\n    <tr>\n      <th>4</th>\n      <td>2018400608</td>\n      <td>胡佳颖</td>\n      <td>431126200011250061</td>\n      <td>女</td>\n      <td>汉族</td>\n      <td>15574619481</td>\n    </tr>\n  </tbody>\n</table>\n</div>"
     },
     "metadata": {},
     "execution_count": 4
    }
   ],
   "source": [
    "df.head(5)"
   ]
  },
  {
   "cell_type": "code",
   "execution_count": 5,
   "metadata": {},
   "outputs": [],
   "source": [
    "dom = df['sfz']"
   ]
  },
  {
   "cell_type": "code",
   "execution_count": 27,
   "metadata": {},
   "outputs": [],
   "source": [
    "sfz_list = [i[6:10]+'-'+i[10:12]+'-'+i[12:14] for i in list(df['sfz'])]"
   ]
  },
  {
   "cell_type": "code",
   "execution_count": 7,
   "metadata": {},
   "outputs": [],
   "source": [
    "# sfz_list = []\n",
    "# for i in list(dom):\n",
    "#     # i = i[6:14]\n",
    "#     # print(i)\n",
    "#     h = i[6:10]\n",
    "#     j = i[10:12]\n",
    "#     k = i[12:14]\n",
    "#     sfz = h+'-'+j+'-'+k\n",
    "#     sfz_list.append(sfz)"
   ]
  },
  {
   "cell_type": "code",
   "execution_count": 28,
   "metadata": {},
   "outputs": [
    {
     "output_type": "execute_result",
     "data": {
      "text/plain": [
       "['1999-10-05', '1998-07-20', '2001-08-12', '2001-01-28', '2000-11-25']"
      ]
     },
     "metadata": {},
     "execution_count": 28
    }
   ],
   "source": [
    "sfz_list[:5]"
   ]
  },
  {
   "cell_type": "code",
   "execution_count": 9,
   "metadata": {},
   "outputs": [],
   "source": [
    "sdate=[20,19,21,20,21,22,23,23,23,24,23,22]     # 星座判断列表\n",
    "conts =['摩羯座','水瓶座','双鱼座','白羊座','金牛座','双子座','巨蟹座','狮子座','处女座','天秤座','天蝎座','射手座','摩羯座']\n",
    "signs=['♑','♒','♓','♈','♉','♊','♋','♌','♍','♎','♏','♐','♑']"
   ]
  },
  {
   "cell_type": "code",
   "execution_count": 10,
   "metadata": {},
   "outputs": [],
   "source": [
    "xm = list(df['name'])\n",
    "xz = []\n",
    "tx = []\n",
    "for birth in sfz_list:\n",
    "    cbir=birth.split('-')    # 分割年月日到列表\n",
    "    cmonth=str(cbir[1])      # 提取月数据\n",
    "    cdate=str(cbir[2])       # 提取日数据\n",
    "    def sign(cmonth,cdate):  #  判断星座函数\n",
    "        if int(cdate)<sdate[int(cmonth)-1]:   # 如果日数据早于对应月列表中对应的日期\n",
    "            xz.append(conts[int(cmonth)-1])       # 直接输出星座列表对应月对应的星座\n",
    "            tx.append(signs[int(cmonth)-1])       # 直接输出星座列表对应月对应的星座\n",
    "        else:\n",
    "            xz.append(conts[int(cmonth)])         # 否则输出星座列表下一月对应的星座\n",
    "            tx.append(signs[int(cmonth)])         # 否则输出星座列表下一月对应的星座        \n",
    "    sign(cmonth,cdate) "
   ]
  },
  {
   "cell_type": "code",
   "execution_count": 11,
   "metadata": {},
   "outputs": [
    {
     "output_type": "execute_result",
     "data": {
      "text/plain": [
       "(['李志杰', '罗银银', '王骞', '刘泽民', '胡佳颖', '唐婉婷', '邓雅丽', '刘胜男', '孙海燕', '林诗敏'],\n",
       " ['天秤座', '巨蟹座', '狮子座', '水瓶座', '射手座', '处女座', '处女座', '水瓶座', '处女座', '狮子座'],\n",
       " ['♎', '♋', '♌', '♒', '♐', '♍', '♍', '♒', '♍', '♌'])"
      ]
     },
     "metadata": {},
     "execution_count": 11
    }
   ],
   "source": [
    "xm[:10],xz[:10],tx[:10]\n",
    "#xm[:],xz[:],tx[:]"
   ]
  },
  {
   "cell_type": "code",
   "execution_count": 12,
   "metadata": {},
   "outputs": [],
   "source": [
    "from pandas.core.frame import DataFrame\n",
    "getlist = {\n",
    "    '姓名' : xm,\n",
    "    '星座' : xz,\n",
    "    '图标' : tx,\n",
    "    '出生日期' : sfz_list\n",
    "}\n",
    "dom = DataFrame(getlist)"
   ]
  },
  {
   "cell_type": "code",
   "execution_count": 13,
   "metadata": {},
   "outputs": [
    {
     "output_type": "execute_result",
     "data": {
      "text/plain": [
       "    姓名   星座 图标        出生日期\n",
       "0  李志杰  天秤座  ♎  1999-10-05\n",
       "1  罗银银  巨蟹座  ♋  1998-07-20\n",
       "2   王骞  狮子座  ♌  2001-08-12\n",
       "3  刘泽民  水瓶座  ♒  2001-01-28\n",
       "4  胡佳颖  射手座  ♐  2000-11-25\n",
       "5  唐婉婷  处女座  ♍  2000-08-24\n",
       "6  邓雅丽  处女座  ♍  2000-09-05\n",
       "7  刘胜男  水瓶座  ♒  2000-02-15\n",
       "8  孙海燕  处女座  ♍  2000-09-04\n",
       "9  林诗敏  狮子座  ♌  2000-08-17"
      ],
      "text/html": "<div>\n<style scoped>\n    .dataframe tbody tr th:only-of-type {\n        vertical-align: middle;\n    }\n\n    .dataframe tbody tr th {\n        vertical-align: top;\n    }\n\n    .dataframe thead th {\n        text-align: right;\n    }\n</style>\n<table border=\"1\" class=\"dataframe\">\n  <thead>\n    <tr style=\"text-align: right;\">\n      <th></th>\n      <th>姓名</th>\n      <th>星座</th>\n      <th>图标</th>\n      <th>出生日期</th>\n    </tr>\n  </thead>\n  <tbody>\n    <tr>\n      <th>0</th>\n      <td>李志杰</td>\n      <td>天秤座</td>\n      <td>♎</td>\n      <td>1999-10-05</td>\n    </tr>\n    <tr>\n      <th>1</th>\n      <td>罗银银</td>\n      <td>巨蟹座</td>\n      <td>♋</td>\n      <td>1998-07-20</td>\n    </tr>\n    <tr>\n      <th>2</th>\n      <td>王骞</td>\n      <td>狮子座</td>\n      <td>♌</td>\n      <td>2001-08-12</td>\n    </tr>\n    <tr>\n      <th>3</th>\n      <td>刘泽民</td>\n      <td>水瓶座</td>\n      <td>♒</td>\n      <td>2001-01-28</td>\n    </tr>\n    <tr>\n      <th>4</th>\n      <td>胡佳颖</td>\n      <td>射手座</td>\n      <td>♐</td>\n      <td>2000-11-25</td>\n    </tr>\n    <tr>\n      <th>5</th>\n      <td>唐婉婷</td>\n      <td>处女座</td>\n      <td>♍</td>\n      <td>2000-08-24</td>\n    </tr>\n    <tr>\n      <th>6</th>\n      <td>邓雅丽</td>\n      <td>处女座</td>\n      <td>♍</td>\n      <td>2000-09-05</td>\n    </tr>\n    <tr>\n      <th>7</th>\n      <td>刘胜男</td>\n      <td>水瓶座</td>\n      <td>♒</td>\n      <td>2000-02-15</td>\n    </tr>\n    <tr>\n      <th>8</th>\n      <td>孙海燕</td>\n      <td>处女座</td>\n      <td>♍</td>\n      <td>2000-09-04</td>\n    </tr>\n    <tr>\n      <th>9</th>\n      <td>林诗敏</td>\n      <td>狮子座</td>\n      <td>♌</td>\n      <td>2000-08-17</td>\n    </tr>\n  </tbody>\n</table>\n</div>"
     },
     "metadata": {},
     "execution_count": 13
    }
   ],
   "source": [
    "dom.head(10)"
   ]
  },
  {
   "cell_type": "code",
   "execution_count": 14,
   "metadata": {},
   "outputs": [],
   "source": [
    "# dom1 = dom['星座']\n",
    "# place_message = dom['姓名'].groupby(dom['星座'])\n",
    "# for index,i in place_message:\n",
    "#     print(index,i)\n",
    "dom = dom.sort_values('星座',ascending = False)#原来就这么简单\n",
    "#使用自定义排序"
   ]
  },
  {
   "cell_type": "code",
   "execution_count": 15,
   "metadata": {},
   "outputs": [
    {
     "output_type": "execute_result",
     "data": {
      "text/plain": [
       "   星座统计  count\n",
       "0   狮子座      5\n",
       "1   处女座      5\n",
       "2   双子座      4\n",
       "3   射手座      3\n",
       "4   水瓶座      3\n",
       "5   双鱼座      2\n",
       "6   金牛座      2\n",
       "7   天蝎座      2\n",
       "8   巨蟹座      2\n",
       "9   天秤座      2\n",
       "10  白羊座      1\n",
       "11  摩羯座      1"
      ],
      "text/html": "<div>\n<style scoped>\n    .dataframe tbody tr th:only-of-type {\n        vertical-align: middle;\n    }\n\n    .dataframe tbody tr th {\n        vertical-align: top;\n    }\n\n    .dataframe thead th {\n        text-align: right;\n    }\n</style>\n<table border=\"1\" class=\"dataframe\">\n  <thead>\n    <tr style=\"text-align: right;\">\n      <th></th>\n      <th>星座统计</th>\n      <th>count</th>\n    </tr>\n  </thead>\n  <tbody>\n    <tr>\n      <th>0</th>\n      <td>狮子座</td>\n      <td>5</td>\n    </tr>\n    <tr>\n      <th>1</th>\n      <td>处女座</td>\n      <td>5</td>\n    </tr>\n    <tr>\n      <th>2</th>\n      <td>双子座</td>\n      <td>4</td>\n    </tr>\n    <tr>\n      <th>3</th>\n      <td>射手座</td>\n      <td>3</td>\n    </tr>\n    <tr>\n      <th>4</th>\n      <td>水瓶座</td>\n      <td>3</td>\n    </tr>\n    <tr>\n      <th>5</th>\n      <td>双鱼座</td>\n      <td>2</td>\n    </tr>\n    <tr>\n      <th>6</th>\n      <td>金牛座</td>\n      <td>2</td>\n    </tr>\n    <tr>\n      <th>7</th>\n      <td>天蝎座</td>\n      <td>2</td>\n    </tr>\n    <tr>\n      <th>8</th>\n      <td>巨蟹座</td>\n      <td>2</td>\n    </tr>\n    <tr>\n      <th>9</th>\n      <td>天秤座</td>\n      <td>2</td>\n    </tr>\n    <tr>\n      <th>10</th>\n      <td>白羊座</td>\n      <td>1</td>\n    </tr>\n    <tr>\n      <th>11</th>\n      <td>摩羯座</td>\n      <td>1</td>\n    </tr>\n  </tbody>\n</table>\n</div>"
     },
     "metadata": {},
     "execution_count": 15
    }
   ],
   "source": [
    "dom1 = dom['星座'].value_counts().reset_index()\n",
    "dom1.columns = ['星座统计','count']\n",
    "dom1"
   ]
  },
  {
   "cell_type": "code",
   "execution_count": 16,
   "metadata": {},
   "outputs": [
    {
     "output_type": "execute_result",
     "data": {
      "text/plain": [
       "     姓名   星座 图标        出生日期\n",
       "23  高双宁  金牛座  ♉  2001-04-23\n",
       "20  文丝雨  金牛座  ♉  2000-04-20\n",
       "30  那格格  白羊座  ♈  2001-03-28\n",
       "16  唐慧婷  狮子座  ♌  2000-07-29\n",
       "2    王骞  狮子座  ♌  2001-08-12\n",
       "9   林诗敏  狮子座  ♌  2000-08-17\n",
       "11   张雯  狮子座  ♌  2000-07-26\n",
       "13   张瑞  狮子座  ♌  2000-07-25\n",
       "3   刘泽民  水瓶座  ♒  2001-01-28\n",
       "27  王满昌  水瓶座  ♒  2000-02-15\n",
       "7   刘胜男  水瓶座  ♒  2000-02-15\n",
       "19  廖迎平  摩羯座  ♑  1999-12-28\n",
       "1   罗银银  巨蟹座  ♋  1998-07-20\n",
       "24  杨思琳  巨蟹座  ♋  2000-07-04\n",
       "21  邱欣妮  射手座  ♐  2000-11-26\n",
       "31  杨森钧  射手座  ♐  1998-11-25\n",
       "4   胡佳颖  射手座  ♐  2000-11-25\n",
       "22  马金瑶  天蝎座  ♏  2000-10-26\n",
       "26  杨慧仪  天蝎座  ♏  2000-11-21\n",
       "12  周俊玲  天秤座  ♎  2000-10-13\n",
       "0   李志杰  天秤座  ♎  1999-10-05\n",
       "17   陈静  处女座  ♍  2000-09-20\n",
       "14   彭菁  处女座  ♍  2000-09-15\n",
       "8   孙海燕  处女座  ♍  2000-09-04\n",
       "6   邓雅丽  处女座  ♍  2000-09-05\n",
       "5   唐婉婷  处女座  ♍  2000-08-24\n",
       "15  米长德  双鱼座  ♓  1999-03-08\n",
       "18  李发明  双鱼座  ♓  2001-02-20\n",
       "10   曹盛  双子座  ♊  2000-06-09\n",
       "25  夏星宇  双子座  ♊  2000-06-07\n",
       "28  杨丹妮  双子座  ♊  2000-05-26\n",
       "29  刘志庆  双子座  ♊  2000-06-03"
      ],
      "text/html": "<div>\n<style scoped>\n    .dataframe tbody tr th:only-of-type {\n        vertical-align: middle;\n    }\n\n    .dataframe tbody tr th {\n        vertical-align: top;\n    }\n\n    .dataframe thead th {\n        text-align: right;\n    }\n</style>\n<table border=\"1\" class=\"dataframe\">\n  <thead>\n    <tr style=\"text-align: right;\">\n      <th></th>\n      <th>姓名</th>\n      <th>星座</th>\n      <th>图标</th>\n      <th>出生日期</th>\n    </tr>\n  </thead>\n  <tbody>\n    <tr>\n      <th>23</th>\n      <td>高双宁</td>\n      <td>金牛座</td>\n      <td>♉</td>\n      <td>2001-04-23</td>\n    </tr>\n    <tr>\n      <th>20</th>\n      <td>文丝雨</td>\n      <td>金牛座</td>\n      <td>♉</td>\n      <td>2000-04-20</td>\n    </tr>\n    <tr>\n      <th>30</th>\n      <td>那格格</td>\n      <td>白羊座</td>\n      <td>♈</td>\n      <td>2001-03-28</td>\n    </tr>\n    <tr>\n      <th>16</th>\n      <td>唐慧婷</td>\n      <td>狮子座</td>\n      <td>♌</td>\n      <td>2000-07-29</td>\n    </tr>\n    <tr>\n      <th>2</th>\n      <td>王骞</td>\n      <td>狮子座</td>\n      <td>♌</td>\n      <td>2001-08-12</td>\n    </tr>\n    <tr>\n      <th>9</th>\n      <td>林诗敏</td>\n      <td>狮子座</td>\n      <td>♌</td>\n      <td>2000-08-17</td>\n    </tr>\n    <tr>\n      <th>11</th>\n      <td>张雯</td>\n      <td>狮子座</td>\n      <td>♌</td>\n      <td>2000-07-26</td>\n    </tr>\n    <tr>\n      <th>13</th>\n      <td>张瑞</td>\n      <td>狮子座</td>\n      <td>♌</td>\n      <td>2000-07-25</td>\n    </tr>\n    <tr>\n      <th>3</th>\n      <td>刘泽民</td>\n      <td>水瓶座</td>\n      <td>♒</td>\n      <td>2001-01-28</td>\n    </tr>\n    <tr>\n      <th>27</th>\n      <td>王满昌</td>\n      <td>水瓶座</td>\n      <td>♒</td>\n      <td>2000-02-15</td>\n    </tr>\n    <tr>\n      <th>7</th>\n      <td>刘胜男</td>\n      <td>水瓶座</td>\n      <td>♒</td>\n      <td>2000-02-15</td>\n    </tr>\n    <tr>\n      <th>19</th>\n      <td>廖迎平</td>\n      <td>摩羯座</td>\n      <td>♑</td>\n      <td>1999-12-28</td>\n    </tr>\n    <tr>\n      <th>1</th>\n      <td>罗银银</td>\n      <td>巨蟹座</td>\n      <td>♋</td>\n      <td>1998-07-20</td>\n    </tr>\n    <tr>\n      <th>24</th>\n      <td>杨思琳</td>\n      <td>巨蟹座</td>\n      <td>♋</td>\n      <td>2000-07-04</td>\n    </tr>\n    <tr>\n      <th>21</th>\n      <td>邱欣妮</td>\n      <td>射手座</td>\n      <td>♐</td>\n      <td>2000-11-26</td>\n    </tr>\n    <tr>\n      <th>31</th>\n      <td>杨森钧</td>\n      <td>射手座</td>\n      <td>♐</td>\n      <td>1998-11-25</td>\n    </tr>\n    <tr>\n      <th>4</th>\n      <td>胡佳颖</td>\n      <td>射手座</td>\n      <td>♐</td>\n      <td>2000-11-25</td>\n    </tr>\n    <tr>\n      <th>22</th>\n      <td>马金瑶</td>\n      <td>天蝎座</td>\n      <td>♏</td>\n      <td>2000-10-26</td>\n    </tr>\n    <tr>\n      <th>26</th>\n      <td>杨慧仪</td>\n      <td>天蝎座</td>\n      <td>♏</td>\n      <td>2000-11-21</td>\n    </tr>\n    <tr>\n      <th>12</th>\n      <td>周俊玲</td>\n      <td>天秤座</td>\n      <td>♎</td>\n      <td>2000-10-13</td>\n    </tr>\n    <tr>\n      <th>0</th>\n      <td>李志杰</td>\n      <td>天秤座</td>\n      <td>♎</td>\n      <td>1999-10-05</td>\n    </tr>\n    <tr>\n      <th>17</th>\n      <td>陈静</td>\n      <td>处女座</td>\n      <td>♍</td>\n      <td>2000-09-20</td>\n    </tr>\n    <tr>\n      <th>14</th>\n      <td>彭菁</td>\n      <td>处女座</td>\n      <td>♍</td>\n      <td>2000-09-15</td>\n    </tr>\n    <tr>\n      <th>8</th>\n      <td>孙海燕</td>\n      <td>处女座</td>\n      <td>♍</td>\n      <td>2000-09-04</td>\n    </tr>\n    <tr>\n      <th>6</th>\n      <td>邓雅丽</td>\n      <td>处女座</td>\n      <td>♍</td>\n      <td>2000-09-05</td>\n    </tr>\n    <tr>\n      <th>5</th>\n      <td>唐婉婷</td>\n      <td>处女座</td>\n      <td>♍</td>\n      <td>2000-08-24</td>\n    </tr>\n    <tr>\n      <th>15</th>\n      <td>米长德</td>\n      <td>双鱼座</td>\n      <td>♓</td>\n      <td>1999-03-08</td>\n    </tr>\n    <tr>\n      <th>18</th>\n      <td>李发明</td>\n      <td>双鱼座</td>\n      <td>♓</td>\n      <td>2001-02-20</td>\n    </tr>\n    <tr>\n      <th>10</th>\n      <td>曹盛</td>\n      <td>双子座</td>\n      <td>♊</td>\n      <td>2000-06-09</td>\n    </tr>\n    <tr>\n      <th>25</th>\n      <td>夏星宇</td>\n      <td>双子座</td>\n      <td>♊</td>\n      <td>2000-06-07</td>\n    </tr>\n    <tr>\n      <th>28</th>\n      <td>杨丹妮</td>\n      <td>双子座</td>\n      <td>♊</td>\n      <td>2000-05-26</td>\n    </tr>\n    <tr>\n      <th>29</th>\n      <td>刘志庆</td>\n      <td>双子座</td>\n      <td>♊</td>\n      <td>2000-06-03</td>\n    </tr>\n  </tbody>\n</table>\n</div>"
     },
     "metadata": {},
     "execution_count": 16
    }
   ],
   "source": [
    "dom"
   ]
  },
  {
   "cell_type": "code",
   "execution_count": 17,
   "metadata": {},
   "outputs": [],
   "source": [
    "# dom2 = dom['姓名'].iloc[dom['星座']]"
   ]
  },
  {
   "cell_type": "code",
   "execution_count": 18,
   "metadata": {},
   "outputs": [],
   "source": [
    "dom2 = dom.sort_values(['星座'],ascending = False)"
   ]
  },
  {
   "cell_type": "code",
   "execution_count": 19,
   "metadata": {},
   "outputs": [
    {
     "output_type": "execute_result",
     "data": {
      "text/plain": [
       "     姓名   星座 图标        出生日期\n",
       "23  高双宁  金牛座  ♉  2001-04-23\n",
       "20  文丝雨  金牛座  ♉  2000-04-20\n",
       "30  那格格  白羊座  ♈  2001-03-28\n",
       "16  唐慧婷  狮子座  ♌  2000-07-29\n",
       "2    王骞  狮子座  ♌  2001-08-12\n",
       "9   林诗敏  狮子座  ♌  2000-08-17\n",
       "11   张雯  狮子座  ♌  2000-07-26\n",
       "13   张瑞  狮子座  ♌  2000-07-25\n",
       "3   刘泽民  水瓶座  ♒  2001-01-28\n",
       "27  王满昌  水瓶座  ♒  2000-02-15\n",
       "7   刘胜男  水瓶座  ♒  2000-02-15\n",
       "19  廖迎平  摩羯座  ♑  1999-12-28\n",
       "1   罗银银  巨蟹座  ♋  1998-07-20\n",
       "24  杨思琳  巨蟹座  ♋  2000-07-04\n",
       "31  杨森钧  射手座  ♐  1998-11-25\n",
       "4   胡佳颖  射手座  ♐  2000-11-25\n",
       "21  邱欣妮  射手座  ♐  2000-11-26\n",
       "22  马金瑶  天蝎座  ♏  2000-10-26\n",
       "26  杨慧仪  天蝎座  ♏  2000-11-21\n",
       "12  周俊玲  天秤座  ♎  2000-10-13\n",
       "0   李志杰  天秤座  ♎  1999-10-05\n",
       "17   陈静  处女座  ♍  2000-09-20\n",
       "14   彭菁  处女座  ♍  2000-09-15\n",
       "8   孙海燕  处女座  ♍  2000-09-04\n",
       "6   邓雅丽  处女座  ♍  2000-09-05\n",
       "5   唐婉婷  处女座  ♍  2000-08-24\n",
       "15  米长德  双鱼座  ♓  1999-03-08\n",
       "18  李发明  双鱼座  ♓  2001-02-20\n",
       "10   曹盛  双子座  ♊  2000-06-09\n",
       "25  夏星宇  双子座  ♊  2000-06-07\n",
       "28  杨丹妮  双子座  ♊  2000-05-26\n",
       "29  刘志庆  双子座  ♊  2000-06-03"
      ],
      "text/html": "<div>\n<style scoped>\n    .dataframe tbody tr th:only-of-type {\n        vertical-align: middle;\n    }\n\n    .dataframe tbody tr th {\n        vertical-align: top;\n    }\n\n    .dataframe thead th {\n        text-align: right;\n    }\n</style>\n<table border=\"1\" class=\"dataframe\">\n  <thead>\n    <tr style=\"text-align: right;\">\n      <th></th>\n      <th>姓名</th>\n      <th>星座</th>\n      <th>图标</th>\n      <th>出生日期</th>\n    </tr>\n  </thead>\n  <tbody>\n    <tr>\n      <th>23</th>\n      <td>高双宁</td>\n      <td>金牛座</td>\n      <td>♉</td>\n      <td>2001-04-23</td>\n    </tr>\n    <tr>\n      <th>20</th>\n      <td>文丝雨</td>\n      <td>金牛座</td>\n      <td>♉</td>\n      <td>2000-04-20</td>\n    </tr>\n    <tr>\n      <th>30</th>\n      <td>那格格</td>\n      <td>白羊座</td>\n      <td>♈</td>\n      <td>2001-03-28</td>\n    </tr>\n    <tr>\n      <th>16</th>\n      <td>唐慧婷</td>\n      <td>狮子座</td>\n      <td>♌</td>\n      <td>2000-07-29</td>\n    </tr>\n    <tr>\n      <th>2</th>\n      <td>王骞</td>\n      <td>狮子座</td>\n      <td>♌</td>\n      <td>2001-08-12</td>\n    </tr>\n    <tr>\n      <th>9</th>\n      <td>林诗敏</td>\n      <td>狮子座</td>\n      <td>♌</td>\n      <td>2000-08-17</td>\n    </tr>\n    <tr>\n      <th>11</th>\n      <td>张雯</td>\n      <td>狮子座</td>\n      <td>♌</td>\n      <td>2000-07-26</td>\n    </tr>\n    <tr>\n      <th>13</th>\n      <td>张瑞</td>\n      <td>狮子座</td>\n      <td>♌</td>\n      <td>2000-07-25</td>\n    </tr>\n    <tr>\n      <th>3</th>\n      <td>刘泽民</td>\n      <td>水瓶座</td>\n      <td>♒</td>\n      <td>2001-01-28</td>\n    </tr>\n    <tr>\n      <th>27</th>\n      <td>王满昌</td>\n      <td>水瓶座</td>\n      <td>♒</td>\n      <td>2000-02-15</td>\n    </tr>\n    <tr>\n      <th>7</th>\n      <td>刘胜男</td>\n      <td>水瓶座</td>\n      <td>♒</td>\n      <td>2000-02-15</td>\n    </tr>\n    <tr>\n      <th>19</th>\n      <td>廖迎平</td>\n      <td>摩羯座</td>\n      <td>♑</td>\n      <td>1999-12-28</td>\n    </tr>\n    <tr>\n      <th>1</th>\n      <td>罗银银</td>\n      <td>巨蟹座</td>\n      <td>♋</td>\n      <td>1998-07-20</td>\n    </tr>\n    <tr>\n      <th>24</th>\n      <td>杨思琳</td>\n      <td>巨蟹座</td>\n      <td>♋</td>\n      <td>2000-07-04</td>\n    </tr>\n    <tr>\n      <th>31</th>\n      <td>杨森钧</td>\n      <td>射手座</td>\n      <td>♐</td>\n      <td>1998-11-25</td>\n    </tr>\n    <tr>\n      <th>4</th>\n      <td>胡佳颖</td>\n      <td>射手座</td>\n      <td>♐</td>\n      <td>2000-11-25</td>\n    </tr>\n    <tr>\n      <th>21</th>\n      <td>邱欣妮</td>\n      <td>射手座</td>\n      <td>♐</td>\n      <td>2000-11-26</td>\n    </tr>\n    <tr>\n      <th>22</th>\n      <td>马金瑶</td>\n      <td>天蝎座</td>\n      <td>♏</td>\n      <td>2000-10-26</td>\n    </tr>\n    <tr>\n      <th>26</th>\n      <td>杨慧仪</td>\n      <td>天蝎座</td>\n      <td>♏</td>\n      <td>2000-11-21</td>\n    </tr>\n    <tr>\n      <th>12</th>\n      <td>周俊玲</td>\n      <td>天秤座</td>\n      <td>♎</td>\n      <td>2000-10-13</td>\n    </tr>\n    <tr>\n      <th>0</th>\n      <td>李志杰</td>\n      <td>天秤座</td>\n      <td>♎</td>\n      <td>1999-10-05</td>\n    </tr>\n    <tr>\n      <th>17</th>\n      <td>陈静</td>\n      <td>处女座</td>\n      <td>♍</td>\n      <td>2000-09-20</td>\n    </tr>\n    <tr>\n      <th>14</th>\n      <td>彭菁</td>\n      <td>处女座</td>\n      <td>♍</td>\n      <td>2000-09-15</td>\n    </tr>\n    <tr>\n      <th>8</th>\n      <td>孙海燕</td>\n      <td>处女座</td>\n      <td>♍</td>\n      <td>2000-09-04</td>\n    </tr>\n    <tr>\n      <th>6</th>\n      <td>邓雅丽</td>\n      <td>处女座</td>\n      <td>♍</td>\n      <td>2000-09-05</td>\n    </tr>\n    <tr>\n      <th>5</th>\n      <td>唐婉婷</td>\n      <td>处女座</td>\n      <td>♍</td>\n      <td>2000-08-24</td>\n    </tr>\n    <tr>\n      <th>15</th>\n      <td>米长德</td>\n      <td>双鱼座</td>\n      <td>♓</td>\n      <td>1999-03-08</td>\n    </tr>\n    <tr>\n      <th>18</th>\n      <td>李发明</td>\n      <td>双鱼座</td>\n      <td>♓</td>\n      <td>2001-02-20</td>\n    </tr>\n    <tr>\n      <th>10</th>\n      <td>曹盛</td>\n      <td>双子座</td>\n      <td>♊</td>\n      <td>2000-06-09</td>\n    </tr>\n    <tr>\n      <th>25</th>\n      <td>夏星宇</td>\n      <td>双子座</td>\n      <td>♊</td>\n      <td>2000-06-07</td>\n    </tr>\n    <tr>\n      <th>28</th>\n      <td>杨丹妮</td>\n      <td>双子座</td>\n      <td>♊</td>\n      <td>2000-05-26</td>\n    </tr>\n    <tr>\n      <th>29</th>\n      <td>刘志庆</td>\n      <td>双子座</td>\n      <td>♊</td>\n      <td>2000-06-03</td>\n    </tr>\n  </tbody>\n</table>\n</div>"
     },
     "metadata": {},
     "execution_count": 19
    }
   ],
   "source": [
    "dom2"
   ]
  },
  {
   "cell_type": "code",
   "execution_count": null,
   "metadata": {},
   "outputs": [],
   "source": []
  },
  {
   "cell_type": "code",
   "execution_count": 20,
   "metadata": {},
   "outputs": [],
   "source": [
    "dom['星座统计'] = dom1['星座统计']\n",
    "dom['count'] = dom1['count']\n",
    "dom['星座'] = dom2['星座']"
   ]
  },
  {
   "cell_type": "code",
   "execution_count": 21,
   "metadata": {},
   "outputs": [
    {
     "output_type": "execute_result",
     "data": {
      "text/plain": [
       "     姓名   星座 图标        出生日期 星座统计  count\n",
       "23  高双宁  金牛座  ♉  2001-04-23  NaN    NaN\n",
       "20  文丝雨  金牛座  ♉  2000-04-20  NaN    NaN\n",
       "30  那格格  白羊座  ♈  2001-03-28  NaN    NaN\n",
       "16  唐慧婷  狮子座  ♌  2000-07-29  NaN    NaN\n",
       "2    王骞  狮子座  ♌  2001-08-12  双子座    4.0\n",
       "9   林诗敏  狮子座  ♌  2000-08-17  天秤座    2.0\n",
       "11   张雯  狮子座  ♌  2000-07-26  摩羯座    1.0\n",
       "13   张瑞  狮子座  ♌  2000-07-25  NaN    NaN\n",
       "3   刘泽民  水瓶座  ♒  2001-01-28  射手座    3.0\n",
       "27  王满昌  水瓶座  ♒  2000-02-15  NaN    NaN\n",
       "7   刘胜男  水瓶座  ♒  2000-02-15  天蝎座    2.0\n",
       "19  廖迎平  摩羯座  ♑  1999-12-28  NaN    NaN\n",
       "1   罗银银  巨蟹座  ♋  1998-07-20  处女座    5.0\n",
       "24  杨思琳  巨蟹座  ♋  2000-07-04  NaN    NaN\n",
       "21  邱欣妮  射手座  ♐  2000-11-26  NaN    NaN\n",
       "31  杨森钧  射手座  ♐  1998-11-25  NaN    NaN\n",
       "4   胡佳颖  射手座  ♐  2000-11-25  水瓶座    3.0\n",
       "22  马金瑶  天蝎座  ♏  2000-10-26  NaN    NaN\n",
       "26  杨慧仪  天蝎座  ♏  2000-11-21  NaN    NaN\n",
       "12  周俊玲  天秤座  ♎  2000-10-13  NaN    NaN\n",
       "0   李志杰  天秤座  ♎  1999-10-05  狮子座    5.0\n",
       "17   陈静  处女座  ♍  2000-09-20  NaN    NaN\n",
       "14   彭菁  处女座  ♍  2000-09-15  NaN    NaN\n",
       "8   孙海燕  处女座  ♍  2000-09-04  巨蟹座    2.0\n",
       "6   邓雅丽  处女座  ♍  2000-09-05  金牛座    2.0\n",
       "5   唐婉婷  处女座  ♍  2000-08-24  双鱼座    2.0\n",
       "15  米长德  双鱼座  ♓  1999-03-08  NaN    NaN\n",
       "18  李发明  双鱼座  ♓  2001-02-20  NaN    NaN\n",
       "10   曹盛  双子座  ♊  2000-06-09  白羊座    1.0\n",
       "25  夏星宇  双子座  ♊  2000-06-07  NaN    NaN\n",
       "28  杨丹妮  双子座  ♊  2000-05-26  NaN    NaN\n",
       "29  刘志庆  双子座  ♊  2000-06-03  NaN    NaN"
      ],
      "text/html": "<div>\n<style scoped>\n    .dataframe tbody tr th:only-of-type {\n        vertical-align: middle;\n    }\n\n    .dataframe tbody tr th {\n        vertical-align: top;\n    }\n\n    .dataframe thead th {\n        text-align: right;\n    }\n</style>\n<table border=\"1\" class=\"dataframe\">\n  <thead>\n    <tr style=\"text-align: right;\">\n      <th></th>\n      <th>姓名</th>\n      <th>星座</th>\n      <th>图标</th>\n      <th>出生日期</th>\n      <th>星座统计</th>\n      <th>count</th>\n    </tr>\n  </thead>\n  <tbody>\n    <tr>\n      <th>23</th>\n      <td>高双宁</td>\n      <td>金牛座</td>\n      <td>♉</td>\n      <td>2001-04-23</td>\n      <td>NaN</td>\n      <td>NaN</td>\n    </tr>\n    <tr>\n      <th>20</th>\n      <td>文丝雨</td>\n      <td>金牛座</td>\n      <td>♉</td>\n      <td>2000-04-20</td>\n      <td>NaN</td>\n      <td>NaN</td>\n    </tr>\n    <tr>\n      <th>30</th>\n      <td>那格格</td>\n      <td>白羊座</td>\n      <td>♈</td>\n      <td>2001-03-28</td>\n      <td>NaN</td>\n      <td>NaN</td>\n    </tr>\n    <tr>\n      <th>16</th>\n      <td>唐慧婷</td>\n      <td>狮子座</td>\n      <td>♌</td>\n      <td>2000-07-29</td>\n      <td>NaN</td>\n      <td>NaN</td>\n    </tr>\n    <tr>\n      <th>2</th>\n      <td>王骞</td>\n      <td>狮子座</td>\n      <td>♌</td>\n      <td>2001-08-12</td>\n      <td>双子座</td>\n      <td>4.0</td>\n    </tr>\n    <tr>\n      <th>9</th>\n      <td>林诗敏</td>\n      <td>狮子座</td>\n      <td>♌</td>\n      <td>2000-08-17</td>\n      <td>天秤座</td>\n      <td>2.0</td>\n    </tr>\n    <tr>\n      <th>11</th>\n      <td>张雯</td>\n      <td>狮子座</td>\n      <td>♌</td>\n      <td>2000-07-26</td>\n      <td>摩羯座</td>\n      <td>1.0</td>\n    </tr>\n    <tr>\n      <th>13</th>\n      <td>张瑞</td>\n      <td>狮子座</td>\n      <td>♌</td>\n      <td>2000-07-25</td>\n      <td>NaN</td>\n      <td>NaN</td>\n    </tr>\n    <tr>\n      <th>3</th>\n      <td>刘泽民</td>\n      <td>水瓶座</td>\n      <td>♒</td>\n      <td>2001-01-28</td>\n      <td>射手座</td>\n      <td>3.0</td>\n    </tr>\n    <tr>\n      <th>27</th>\n      <td>王满昌</td>\n      <td>水瓶座</td>\n      <td>♒</td>\n      <td>2000-02-15</td>\n      <td>NaN</td>\n      <td>NaN</td>\n    </tr>\n    <tr>\n      <th>7</th>\n      <td>刘胜男</td>\n      <td>水瓶座</td>\n      <td>♒</td>\n      <td>2000-02-15</td>\n      <td>天蝎座</td>\n      <td>2.0</td>\n    </tr>\n    <tr>\n      <th>19</th>\n      <td>廖迎平</td>\n      <td>摩羯座</td>\n      <td>♑</td>\n      <td>1999-12-28</td>\n      <td>NaN</td>\n      <td>NaN</td>\n    </tr>\n    <tr>\n      <th>1</th>\n      <td>罗银银</td>\n      <td>巨蟹座</td>\n      <td>♋</td>\n      <td>1998-07-20</td>\n      <td>处女座</td>\n      <td>5.0</td>\n    </tr>\n    <tr>\n      <th>24</th>\n      <td>杨思琳</td>\n      <td>巨蟹座</td>\n      <td>♋</td>\n      <td>2000-07-04</td>\n      <td>NaN</td>\n      <td>NaN</td>\n    </tr>\n    <tr>\n      <th>21</th>\n      <td>邱欣妮</td>\n      <td>射手座</td>\n      <td>♐</td>\n      <td>2000-11-26</td>\n      <td>NaN</td>\n      <td>NaN</td>\n    </tr>\n    <tr>\n      <th>31</th>\n      <td>杨森钧</td>\n      <td>射手座</td>\n      <td>♐</td>\n      <td>1998-11-25</td>\n      <td>NaN</td>\n      <td>NaN</td>\n    </tr>\n    <tr>\n      <th>4</th>\n      <td>胡佳颖</td>\n      <td>射手座</td>\n      <td>♐</td>\n      <td>2000-11-25</td>\n      <td>水瓶座</td>\n      <td>3.0</td>\n    </tr>\n    <tr>\n      <th>22</th>\n      <td>马金瑶</td>\n      <td>天蝎座</td>\n      <td>♏</td>\n      <td>2000-10-26</td>\n      <td>NaN</td>\n      <td>NaN</td>\n    </tr>\n    <tr>\n      <th>26</th>\n      <td>杨慧仪</td>\n      <td>天蝎座</td>\n      <td>♏</td>\n      <td>2000-11-21</td>\n      <td>NaN</td>\n      <td>NaN</td>\n    </tr>\n    <tr>\n      <th>12</th>\n      <td>周俊玲</td>\n      <td>天秤座</td>\n      <td>♎</td>\n      <td>2000-10-13</td>\n      <td>NaN</td>\n      <td>NaN</td>\n    </tr>\n    <tr>\n      <th>0</th>\n      <td>李志杰</td>\n      <td>天秤座</td>\n      <td>♎</td>\n      <td>1999-10-05</td>\n      <td>狮子座</td>\n      <td>5.0</td>\n    </tr>\n    <tr>\n      <th>17</th>\n      <td>陈静</td>\n      <td>处女座</td>\n      <td>♍</td>\n      <td>2000-09-20</td>\n      <td>NaN</td>\n      <td>NaN</td>\n    </tr>\n    <tr>\n      <th>14</th>\n      <td>彭菁</td>\n      <td>处女座</td>\n      <td>♍</td>\n      <td>2000-09-15</td>\n      <td>NaN</td>\n      <td>NaN</td>\n    </tr>\n    <tr>\n      <th>8</th>\n      <td>孙海燕</td>\n      <td>处女座</td>\n      <td>♍</td>\n      <td>2000-09-04</td>\n      <td>巨蟹座</td>\n      <td>2.0</td>\n    </tr>\n    <tr>\n      <th>6</th>\n      <td>邓雅丽</td>\n      <td>处女座</td>\n      <td>♍</td>\n      <td>2000-09-05</td>\n      <td>金牛座</td>\n      <td>2.0</td>\n    </tr>\n    <tr>\n      <th>5</th>\n      <td>唐婉婷</td>\n      <td>处女座</td>\n      <td>♍</td>\n      <td>2000-08-24</td>\n      <td>双鱼座</td>\n      <td>2.0</td>\n    </tr>\n    <tr>\n      <th>15</th>\n      <td>米长德</td>\n      <td>双鱼座</td>\n      <td>♓</td>\n      <td>1999-03-08</td>\n      <td>NaN</td>\n      <td>NaN</td>\n    </tr>\n    <tr>\n      <th>18</th>\n      <td>李发明</td>\n      <td>双鱼座</td>\n      <td>♓</td>\n      <td>2001-02-20</td>\n      <td>NaN</td>\n      <td>NaN</td>\n    </tr>\n    <tr>\n      <th>10</th>\n      <td>曹盛</td>\n      <td>双子座</td>\n      <td>♊</td>\n      <td>2000-06-09</td>\n      <td>白羊座</td>\n      <td>1.0</td>\n    </tr>\n    <tr>\n      <th>25</th>\n      <td>夏星宇</td>\n      <td>双子座</td>\n      <td>♊</td>\n      <td>2000-06-07</td>\n      <td>NaN</td>\n      <td>NaN</td>\n    </tr>\n    <tr>\n      <th>28</th>\n      <td>杨丹妮</td>\n      <td>双子座</td>\n      <td>♊</td>\n      <td>2000-05-26</td>\n      <td>NaN</td>\n      <td>NaN</td>\n    </tr>\n    <tr>\n      <th>29</th>\n      <td>刘志庆</td>\n      <td>双子座</td>\n      <td>♊</td>\n      <td>2000-06-03</td>\n      <td>NaN</td>\n      <td>NaN</td>\n    </tr>\n  </tbody>\n</table>\n</div>"
     },
     "metadata": {},
     "execution_count": 21
    }
   ],
   "source": [
    "dom"
   ]
  },
  {
   "cell_type": "code",
   "execution_count": 22,
   "metadata": {},
   "outputs": [],
   "source": [
    "#dom.to_excel('18电商星座表.xlsx')"
   ]
  }
 ]
}